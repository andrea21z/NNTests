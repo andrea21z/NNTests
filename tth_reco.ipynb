{
 "cells": [
  {
   "cell_type": "code",
   "execution_count": 1,
   "metadata": {},
   "outputs": [
    {
     "name": "stdout",
     "output_type": "stream",
     "text": [
      "Welcome to JupyROOT 6.12/07\n",
      "2.2.3\n"
     ]
    }
   ],
   "source": [
    "import ROOT\n",
    "import pandas\n",
    "import math\n",
    "%matplotlib inline\n",
    "import matplotlib #as matplot\n",
    "print(matplotlib.__version__)\n",
    "import matplotlib.pyplot as plt\n",
    "from matplotlib import cm as cm\n",
    "import numpy as np\n",
    "import time"
   ]
  },
  {
   "cell_type": "code",
   "execution_count": 2,
   "metadata": {},
   "outputs": [
    {
     "name": "stdout",
     "output_type": "stream",
     "text": [
      "0.19.1\n"
     ]
    }
   ],
   "source": [
    "from sklearn.metrics import roc_curve, auc\n",
    "import pylab\n",
    "import sklearn as sk\n",
    "print(sk.__version__)\n",
    "from sklearn.model_selection import train_test_split"
   ]
  },
  {
   "cell_type": "code",
   "execution_count": 3,
   "metadata": {},
   "outputs": [
    {
     "name": "stdout",
     "output_type": "stream",
     "text": [
      "1.6.0\n",
      "2.1.4\n",
      "1.6.0\n"
     ]
    },
    {
     "name": "stderr",
     "output_type": "stream",
     "text": [
      "Using TensorFlow backend.\n",
      "2019-07-15 12:39:36.775257: I tensorflow/core/platform/cpu_feature_guard.cc:140] Your CPU supports instructions that this TensorFlow binary was not compiled to use: SSE4.1 SSE4.2\n"
     ]
    }
   ],
   "source": [
    "import tensorflow as tf\n",
    "print(tf.__version__)\n",
    "######################\n",
    "import keras as kr\n",
    "from keras.models import Sequential\n",
    "from keras.layers import InputLayer, Input\n",
    "from keras.layers import Reshape, MaxPooling2D\n",
    "from keras.layers import Conv2D, Dense, Flatten, Dropout\n",
    "print(kr.__version__)\n",
    "from keras import backend as K\n",
    "import tensorflow as tf\n",
    "print(tf.__version__)\n",
    "config = tf.ConfigProto(intra_op_parallelism_threads=32, \\\n",
    "                        inter_op_parallelism_threads=32, \\\n",
    "                        allow_soft_placement=True, \\\n",
    "                        device_count = {'CPU': 6}\n",
    "                       )\n",
    "session = tf.Session(config=config)\n",
    "K.set_session(session)"
   ]
  },
  {
   "cell_type": "code",
   "execution_count": 4,
   "metadata": {},
   "outputs": [],
   "source": [
    "%run dnn_utils/data_utils.py\n",
    "\n",
    "vars = ['Lep1_pt', 'Lep1_eta', 'Lep1_phi','Lep2_pt', 'Lep2_eta', 'Lep2_phi',\n",
    "        'Jet1_pt','Jet1_eta','Jet1_phi',#'Jet1_mass',\n",
    "        'Jet2_pt','Jet2_eta','Jet2_phi',#'Jet2_mass',\n",
    "        'HadTop_pt','HadTop_eta','HadTop_phi',\n",
    "        'met','met_phi'                                  \n",
    "                                         ]\n",
    "target = ['Higgs_y']\n",
    "data = load_data(\"tthreco/TTHnobb_pow_Friend.root\",  vars + ['evt_tag'] + target\n",
    "        )\n",
    "\n"
   ]
  },
  {
   "cell_type": "code",
   "execution_count": 5,
   "metadata": {
    "scrolled": false
   },
   "outputs": [],
   "source": [
    "# make the selection and slimming\n",
    "data = data[data['evt_tag'] == 1]\n",
    "data = data[vars+target]\n",
    "\n",
    "# move to log\n",
    "#data[\"Higgs_pt\"] = np.log(data[\"Higgs_pt\"])\n",
    "#data[\"Higgs_pt\"] = data[\"Higgs_pt\"].apply(lambda x : min(x,450))\n",
    "#print data[\"Higgs_pt\"]"
   ]
  },
  {
   "cell_type": "code",
   "execution_count": 6,
   "metadata": {},
   "outputs": [],
   "source": [
    "# train and validation\n",
    "traindataset, valdataset = train_test_split(data, test_size=0.4, random_state=7)"
   ]
  },
  {
   "cell_type": "code",
   "execution_count": 7,
   "metadata": {},
   "outputs": [],
   "source": [
    "# get them modules\n",
    "from keras import optimizers\n",
    "from keras.layers import Dense, Activation\n",
    "from keras.wrappers.scikit_learn import KerasRegressor\n",
    "from sklearn.preprocessing import StandardScaler\n",
    "\n"
   ]
  },
  {
   "cell_type": "code",
   "execution_count": 8,
   "metadata": {
    "scrolled": false
   },
   "outputs": [],
   "source": [
    "def nn_model(lr=5e-2):\n",
    "    \"create a model.\"\n",
    "    model = Sequential()\n",
    "    model.add(Dense(3*len(vars), input_dim=len(vars), kernel_initializer='he_uniform')) \n",
    "    model.add(Activation('relu'))\n",
    "    for Nnodes in [80,100,40,16,4] :\n",
    "        model.add(Dense(Nnodes, kernel_initializer='he_uniform'))\n",
    "        model.add(Activation('linear'))\n",
    "    model.add(Dense(1, kernel_initializer='he_uniform'))\n",
    "    model.add(Activation('relu'))\n",
    "    \n",
    "    adam = optimizers.adam(lr=lr) \n",
    "    model.compile(loss='mean_absolute_percentage_error', optimizer=adam)\n",
    "    return model\n",
    "\n",
    "def trainLR(lr,plot=False):\n",
    "    k_model  = KerasRegressor(\n",
    "        build_fn=nn_model, \n",
    "        epochs=20, \n",
    "        batch_size=100, \n",
    "        verbose=2,\n",
    "        lr=lr\n",
    ")\n",
    "\n",
    "    history = k_model.fit(\n",
    "        traindataset[vars].values, \n",
    "        traindataset[target].values,\n",
    "        validation_data=(\n",
    "            valdataset[vars].values, \n",
    "            valdataset[target].values\n",
    "        )\n",
    "    )\n",
    "    return history\n",
    "# predict validation\n",
    "\n",
    "#    prediction = k_model.predict(valdataset[vars].values)\n",
    "#    corr = np.corrcoef(prediction, np.transpose(valdataset[target].values[:]))\n",
    "#    if plot:\n",
    "#        plt.scatter(valdataset[target].values,prediction,s=0.01)\n",
    "#    #diff = valdataset[target].values.reshape(-1)-prediction\n",
    "#    #plt.hist(diff/prediction,log=False,bins=1000,range=[-3,3])\n",
    "\n",
    "#    return corr[0,1], history\n",
    "\n"
   ]
  },
  {
   "cell_type": "code",
   "execution_count": 9,
   "metadata": {
    "scrolled": true
   },
   "outputs": [
    {
     "name": "stdout",
     "output_type": "stream",
     "text": [
      "Train on 51855 samples, validate on 34570 samples\n",
      "Epoch 1/20\n",
      " - 4s - loss: 100.0134 - val_loss: 100.0000\n",
      "Epoch 2/20\n",
      " - 2s - loss: 100.0000 - val_loss: 100.0000\n",
      "Epoch 3/20\n",
      " - 2s - loss: 100.0000 - val_loss: 100.0000\n",
      "Epoch 4/20\n",
      " - 2s - loss: 100.0000 - val_loss: 100.0000\n",
      "Epoch 5/20\n",
      " - 2s - loss: 100.0000 - val_loss: 100.0000\n",
      "Epoch 6/20\n",
      " - 2s - loss: 100.0000 - val_loss: 100.0000\n",
      "Epoch 7/20\n",
      " - 2s - loss: 100.0000 - val_loss: 100.0000\n",
      "Epoch 8/20\n",
      " - 2s - loss: 100.0000 - val_loss: 100.0000\n",
      "Epoch 9/20\n",
      " - 2s - loss: 100.0000 - val_loss: 100.0000\n",
      "Epoch 10/20\n",
      " - 2s - loss: 100.0000 - val_loss: 100.0000\n",
      "Epoch 11/20\n",
      " - 2s - loss: 100.0000 - val_loss: 100.0000\n",
      "Epoch 12/20\n",
      " - 2s - loss: 100.0000 - val_loss: 100.0000\n",
      "Epoch 13/20\n",
      " - 2s - loss: 100.0000 - val_loss: 100.0000\n",
      "Epoch 14/20\n",
      " - 2s - loss: 100.0000 - val_loss: 100.0000\n",
      "Epoch 15/20\n",
      " - 2s - loss: 100.0000 - val_loss: 100.0000\n",
      "Epoch 16/20\n",
      " - 2s - loss: 100.0000 - val_loss: 100.0000\n",
      "Epoch 17/20\n",
      " - 2s - loss: 100.0000 - val_loss: 100.0000\n",
      "Epoch 18/20\n",
      " - 2s - loss: 100.0000 - val_loss: 100.0000\n",
      "Epoch 19/20\n",
      " - 2s - loss: 100.0000 - val_loss: 100.0000\n",
      "Epoch 20/20\n",
      " - 2s - loss: 100.0000 - val_loss: 100.0000\n"
     ]
    }
   ],
   "source": [
    "hist= trainLR(1e-4,plot=True)\n",
    "plt.show()"
   ]
  },
  {
   "cell_type": "code",
   "execution_count": 10,
   "metadata": {},
   "outputs": [
    {
     "data": {
      "image/png": "[encoded data removed]",
      "text/plain": [
       "<Figure size 432x288 with 1 Axes>"
      ]
     },
     "metadata": {
      "needs_background": "light"
     },
     "output_type": "display_data"
    }
   ],
   "source": [
    "plt.plot(hist.history['loss'],color='m')\n",
    "plt.plot(hist.history['val_loss'],color='b')\n",
    "plt.show()"
   ]
  },
  {
   "cell_type": "code",
   "execution_count": 11,
   "metadata": {},
   "outputs": [],
   "source": [
    "#x = []; y = []; \n",
    "#lrs = np.logspace(-8,-6,num=40)\n",
    "#for lr in lrs: #\n",
    "#   x.append(lr)\n",
    "#    y.append(trainLR(lr))\n",
    "#print x,y    "
   ]
  },
  {
   "cell_type": "code",
   "execution_count": 12,
   "metadata": {},
   "outputs": [],
   "source": [
    "#plt.semilogx(x[0:5],y)\n",
    "#plt.show()"
   ]
  },
  {
   "cell_type": "code",
   "execution_count": null,
   "metadata": {},
   "outputs": [],
   "source": []
  }
 ],
 "metadata": {
  "kernelspec": {
   "display_name": "Python 2",
   "language": "python",
   "name": "python2"
  },
  "language_info": {
   "codemirror_mode": {
    "name": "ipython",
    "version": 2
   },
   "file_extension": ".py",
   "mimetype": "text/x-python",
   "name": "python",
   "nbconvert_exporter": "python",
   "pygments_lexer": "ipython2",
   "version": "2.7.14+"
  }
 },
 "nbformat": 4,
 "nbformat_minor": 2
}
